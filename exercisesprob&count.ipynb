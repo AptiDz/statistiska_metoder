{
 "cells": [
  {
   "cell_type": "markdown",
   "metadata": {},
   "source": [
    "Exercises week 1: Probability and Counting"
   ]
  },
  {
   "cell_type": "code",
   "execution_count": 8,
   "metadata": {},
   "outputs": [
    {
     "name": "stdout",
     "output_type": "stream",
     "text": [
      "probability is 30.0%\n"
     ]
    }
   ],
   "source": [
    "'''1\n",
    "One environmental hazard is overexposure to airborne asbestos. In a sample of 10 public buildings\n",
    "over 20 years old, three were found to be insulated with materials that produce an excess of\n",
    "asbestos particles. What is the approximate probability that another building of this type will\n",
    "have this problem? What method are you using to assign this probability? Write down the\n",
    "mathematical formula that expresses the method\n",
    "'''\n",
    "\n",
    "f = 3\n",
    "n = 10\n",
    "p = f/n\n",
    "print(f\"probability is {p*100}%\")"
   ]
  },
  {
   "cell_type": "code",
   "execution_count": 9,
   "metadata": {},
   "outputs": [
    {
     "name": "stdout",
     "output_type": "stream",
     "text": [
      "the probability of both sons having the disease is 25.0%\n"
     ]
    }
   ],
   "source": [
    "''' 2\n",
    "When a woman is a carrier of classical hemophilia, there is a 50% chance that a male child will\n",
    "inherit the disease. If a carrier gives birth to two sons, what is the probability that both boys\n",
    "will have the disease? What approach to probability are you using to answer the question\n",
    "'''\n",
    "p_son= 0.5\n",
    "p_both = p_son*p_son\n",
    "\n",
    "print(f\"the probability of both sons having the disease is {p_both*100}%\")"
   ]
  },
  {
   "cell_type": "code",
   "execution_count": 10,
   "metadata": {},
   "outputs": [
    {
     "name": "stdout",
     "output_type": "stream",
     "text": [
      "The factorial of 9! is 362880\n",
      "The factorial of 6! is 720\n",
      "The permutation of 7P3 is 210\n",
      "The permutation of 6P2 is 30\n",
      "The permutation of 5P5 is 120\n",
      "The permutation of 6P6 is 720\n",
      "The combination of 9C4 is 126\n",
      "The combination of 8C3 is 56\n",
      "The binomial coefficient of (8 5) is 56\n",
      "The binomial coefficient of (8 0) is 1\n",
      "The binomial coefficient of (8 7) is 8\n"
     ]
    }
   ],
   "source": [
    "'''\n",
    "Evaluate each of the following expressions:\n",
    "'''\n",
    "\n",
    "# 3 a) 9!\n",
    "\n",
    "import math\n",
    "\n",
    "print(f\"The factorial of 9! is {math.factorial(9)}\")\n",
    "\n",
    "# 3 b) 6!\n",
    "\n",
    "print(f\"The factorial of 6! is {math.factorial(6)}\")\n",
    "\n",
    "# 3 c)\n",
    "\n",
    "\n",
    "\n",
    "print(f\"The permutation of 7P3 is {math.perm(7, 3)}\")\n",
    "\n",
    "# 3 d)\n",
    " \n",
    "print(f\"The permutation of 6P2 is {math.perm(6, 2)}\")\n",
    "\n",
    "# 3 e)4\n",
    "\n",
    "print(f\"The permutation of 5P5 is {math.perm(5, 5)}\")\n",
    "\n",
    "# 0! = 1\n",
    "\n",
    "\n",
    "# 3 f)\n",
    "\n",
    "print(f\"The permutation of 6P6 is {math.perm(6, 6)}\")\n",
    "\n",
    "# 3 g)\n",
    "\n",
    "print(f\"The combination of 9C4 is {math.comb(9, 4)}\")\n",
    "\n",
    "# 3 h)\n",
    "\n",
    "print(f\"The combination of 8C3 is {math.comb(8, 3)}\")\n",
    "\n",
    "\"\"\" \n",
    "8C5 = binomial (8 5), the coefficient binomial is the same thing as combination\n",
    "\n",
    "\"\"\"\n",
    "# 3 i)\n",
    "\n",
    "print(f\"The binomial coefficient of (8 5) is {math.comb(8, 5)}\")\n",
    "\n",
    "# 3 j)\n",
    "\n",
    "print(f\"The binomial coefficient of (8 0) is {math.comb(8, 0)}\")\n",
    "\n",
    "# 3 k)\n",
    "\n",
    "\n",
    "print(f\"The binomial coefficient of (8 7) is {math.comb(8, 7)}\")"
   ]
  },
  {
   "cell_type": "code",
   "execution_count": 11,
   "metadata": {},
   "outputs": [
    {
     "name": "stdout",
     "output_type": "stream",
     "text": [
      "Team can be chosen in 60480 ways\n",
      "Team can be chosen in 30240 ways\n"
     ]
    }
   ],
   "source": [
    "\"\"\" 4\n",
    "A firm employs 10 programmers, 8 systems analysts, 4 computer engineers and 3 statisticians. A\n",
    "team will consist of 3 programmers, 2 systems analysts, 2 computer engineers and 1 statistician.\n",
    "\"\"\"\n",
    "# (a) In how many ways can a team be chosen?\n",
    "\n",
    "team = math.comb(10, 3) * math.comb(8, 2) * math.comb(4, 2) * math.comb(3, 1)\n",
    "\n",
    "print(f\"Team can be chosen in {team} ways\")\n",
    "\n",
    "# (b) If a customer insists that one particular computer engineer is assigned, in how many ways can a team be chosen?\n",
    "\n",
    "team = math.comb(10, 3) * math.comb(8, 2) * math.comb(3, 1) * math.comb(3, 1)\n",
    "\n",
    "print(f\"Team can be chosen in {team} ways\")"
   ]
  },
  {
   "cell_type": "code",
   "execution_count": 12,
   "metadata": {},
   "outputs": [
    {
     "name": "stdout",
     "output_type": "stream",
     "text": [
      "The amount of possible passwords are 657800\n",
      "The amount of passwords that consists three A's and two B's followed by an even number are 50\n",
      "The probability to guess the right password is 2.0%\n"
     ]
    }
   ],
   "source": [
    "\"\"\" \n",
    "5\n",
    "A computer system uses passwords that consist of five letters followed by a single digit.\n",
    "\"\"\"\n",
    "\n",
    "# (a) How many passwords are possible? Assume English-Latin letters with no diacritics.\n",
    "\n",
    "password = math.comb(26, 5) * math.comb(10, 1)\n",
    "\n",
    "print(f\"The amount of possible passwords are {password}\")\n",
    "\n",
    "# (b) How many passwords consists of three A’s and two B’s (in any order) followed by an even digit?\n",
    "\n",
    "password = math.comb(5, 3) * math.comb(2, 2) * math.comb(5, 1)\n",
    "\n",
    "print(f\"The amount of passwords that consists three A's and two B's followed by an even number are {password}\")\n",
    "\n",
    "# (c) If you forgot your password, but remember that it has the above characteristic, what is the probability that you would guess the right password on your first try?\n",
    "\n",
    "print(f\"The probability to guess the right password is {1/50*100}%\")"
   ]
  },
  {
   "cell_type": "code",
   "execution_count": null,
   "metadata": {},
   "outputs": [],
   "source": []
  }
 ],
 "metadata": {
  "kernelspec": {
   "display_name": ".venv",
   "language": "python",
   "name": "python3"
  },
  "language_info": {
   "codemirror_mode": {
    "name": "ipython",
    "version": 3
   },
   "file_extension": ".py",
   "mimetype": "text/x-python",
   "name": "python",
   "nbconvert_exporter": "python",
   "pygments_lexer": "ipython3",
   "version": "3.11.0"
  }
 },
 "nbformat": 4,
 "nbformat_minor": 2
}
