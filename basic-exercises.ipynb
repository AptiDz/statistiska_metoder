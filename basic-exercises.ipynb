{
 "cells": [
  {
   "cell_type": "code",
   "execution_count": null,
   "metadata": {},
   "outputs": [
    {
     "name": "stdout",
     "output_type": "stream",
     "text": [
      "Exercise 4\n",
      "a) 60480\n",
      "b) 30240\n"
     ]
    }
   ],
   "source": [
    "import math\n",
    "from math import comb as binom\n",
    "\n",
    "number_of_teams = binom(10, 3)*binom(8, 2)*binom(4, 2)*binom(3,1)\n",
    "\n",
    "fixed_engineer = binom(10, 3)*binom(8, 2)*binom(3, 1)*binom(3, 1)\n",
    "\n",
    "print(f\"Exercise 4\\na) {number_of_teams}\\nb) {fixed_engineer}\")\n"
   ]
  },
  {
   "cell_type": "code",
   "execution_count": null,
   "metadata": {},
   "outputs": [
    {
     "name": "stdout",
     "output_type": "stream",
     "text": [
      "Exercise 5\n",
      "a) There are 118813760 possible passwords\n",
      "b) There are only 50 weak passwords. \n",
      "c) Guessing a weak password on any try is 1/50\n"
     ]
    }
   ],
   "source": [
    "# 26 letter in english alphabet, there are 10 digits (0-9)\n",
    "# with repetition, with order: n^k\n",
    "number_of_passwords = math.pow(26, 5) * 10\n",
    "# choose three of five positions for A's\n",
    "# the B's then have only one possibility\n",
    "# 5 possible digits (0,2,4,6,8)\n",
    "# note : binom(5, 3) == binom(5, 2)\n",
    "weak_passwords = binom(5, 3) * 5\n",
    "print(f\"Exercise 5\\na) There are {int(number_of_passwords)} possible passwords\\nb) There are only {weak_passwords} weak passwords. \\nc) Guessing a weak password on any try is 1/50\")\n"
   ]
  },
  {
   "cell_type": "code",
   "execution_count": null,
   "metadata": {},
   "outputs": [
    {
     "name": "stdout",
     "output_type": "stream",
     "text": [
      "a) Probability is 0.42\n",
      "b) Probability is 0.46\n"
     ]
    }
   ],
   "source": [
    "# Red unit success = 60%\n",
    "# Blue unit success = 70%\n",
    "# Only red = 18%\n",
    "# a) Probability of P(A && B)\n",
    "# b) Probability of P(A xor B), ie P[R or B] - P[R and B]\n",
    "# P(R) = .6\n",
    "# P(B) = .7\n",
    "# P[!B] = .3\n",
    "# P(A && !B) = .18\n",
    "# P(!R && B) = .28\n",
    "# .46\n",
    "# Multiplikationsregeln\n",
    "# P[A && B] = P[B|A]*P[B]\n",
    "# note if E = R && !B then P[R] - !E is the sought after probability, which is equivalent to P[R]P[B]\n",
    "print(f\"a) Probability is {.6-.18}\\nb) Probability is {.18 + .28}\")"
   ]
  }
 ],
 "metadata": {
  "kernelspec": {
   "display_name": ".venv",
   "language": "python",
   "name": "python3"
  },
  "language_info": {
   "codemirror_mode": {
    "name": "ipython",
    "version": 3
   },
   "file_extension": ".py",
   "mimetype": "text/x-python",
   "name": "python",
   "nbconvert_exporter": "python",
   "pygments_lexer": "ipython3",
   "version": "3.11.0"
  }
 },
 "nbformat": 4,
 "nbformat_minor": 2
}
