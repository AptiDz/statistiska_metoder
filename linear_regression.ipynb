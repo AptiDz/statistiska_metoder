{
 "cells": [
  {
   "cell_type": "code",
   "execution_count": 121,
   "metadata": {},
   "outputs": [
    {
     "data": {
      "text/html": [
       "<div>\n",
       "<style scoped>\n",
       "    .dataframe tbody tr th:only-of-type {\n",
       "        vertical-align: middle;\n",
       "    }\n",
       "\n",
       "    .dataframe tbody tr th {\n",
       "        vertical-align: top;\n",
       "    }\n",
       "\n",
       "    .dataframe thead th {\n",
       "        text-align: right;\n",
       "    }\n",
       "</style>\n",
       "<table border=\"1\" class=\"dataframe\">\n",
       "  <thead>\n",
       "    <tr style=\"text-align: right;\">\n",
       "      <th></th>\n",
       "      <th>TV</th>\n",
       "      <th>radio</th>\n",
       "      <th>newspaper</th>\n",
       "      <th>sales</th>\n",
       "    </tr>\n",
       "  </thead>\n",
       "  <tbody>\n",
       "    <tr>\n",
       "      <th>1</th>\n",
       "      <td>230.1</td>\n",
       "      <td>37.8</td>\n",
       "      <td>69.2</td>\n",
       "      <td>22.1</td>\n",
       "    </tr>\n",
       "    <tr>\n",
       "      <th>2</th>\n",
       "      <td>44.5</td>\n",
       "      <td>39.3</td>\n",
       "      <td>45.1</td>\n",
       "      <td>10.4</td>\n",
       "    </tr>\n",
       "    <tr>\n",
       "      <th>3</th>\n",
       "      <td>17.2</td>\n",
       "      <td>45.9</td>\n",
       "      <td>69.3</td>\n",
       "      <td>9.3</td>\n",
       "    </tr>\n",
       "    <tr>\n",
       "      <th>4</th>\n",
       "      <td>151.5</td>\n",
       "      <td>41.3</td>\n",
       "      <td>58.5</td>\n",
       "      <td>18.5</td>\n",
       "    </tr>\n",
       "    <tr>\n",
       "      <th>5</th>\n",
       "      <td>180.8</td>\n",
       "      <td>10.8</td>\n",
       "      <td>58.4</td>\n",
       "      <td>12.9</td>\n",
       "    </tr>\n",
       "  </tbody>\n",
       "</table>\n",
       "</div>"
      ],
      "text/plain": [
       "      TV  radio  newspaper  sales\n",
       "1  230.1   37.8       69.2   22.1\n",
       "2   44.5   39.3       45.1   10.4\n",
       "3   17.2   45.9       69.3    9.3\n",
       "4  151.5   41.3       58.5   18.5\n",
       "5  180.8   10.8       58.4   12.9"
      ]
     },
     "execution_count": 121,
     "metadata": {},
     "output_type": "execute_result"
    }
   ],
   "source": [
    "import pandas as pd\n",
    "\n",
    "data_path = \"C:/Source/AI och Maskinlära 2024 YH/statistiska_metoder/ALL CSV FILES - 2nd Edition/\"\n",
    "\n",
    "adv = pd.read_csv(data_path+\"Advertising.csv\", index_col=0)\n",
    "adv.head()"
   ]
  },
  {
   "cell_type": "code",
   "execution_count": 122,
   "metadata": {},
   "outputs": [
    {
     "data": {
      "text/plain": [
       "array([[  1. , 230.1],\n",
       "       [  1. ,  44.5],\n",
       "       [  1. ,  17.2],\n",
       "       [  1. , 151.5],\n",
       "       [  1. , 180.8],\n",
       "       [  1. ,   8.7],\n",
       "       [  1. ,  57.5],\n",
       "       [  1. , 120.2],\n",
       "       [  1. ,   8.6],\n",
       "       [  1. , 199.8],\n",
       "       [  1. ,  66.1],\n",
       "       [  1. , 214.7],\n",
       "       [  1. ,  23.8],\n",
       "       [  1. ,  97.5],\n",
       "       [  1. , 204.1],\n",
       "       [  1. , 195.4],\n",
       "       [  1. ,  67.8],\n",
       "       [  1. , 281.4],\n",
       "       [  1. ,  69.2],\n",
       "       [  1. , 147.3],\n",
       "       [  1. , 218.4],\n",
       "       [  1. , 237.4],\n",
       "       [  1. ,  13.2],\n",
       "       [  1. , 228.3],\n",
       "       [  1. ,  62.3],\n",
       "       [  1. , 262.9],\n",
       "       [  1. , 142.9],\n",
       "       [  1. , 240.1],\n",
       "       [  1. , 248.8],\n",
       "       [  1. ,  70.6],\n",
       "       [  1. , 292.9],\n",
       "       [  1. , 112.9],\n",
       "       [  1. ,  97.2],\n",
       "       [  1. , 265.6],\n",
       "       [  1. ,  95.7],\n",
       "       [  1. , 290.7],\n",
       "       [  1. , 266.9],\n",
       "       [  1. ,  74.7],\n",
       "       [  1. ,  43.1],\n",
       "       [  1. , 228. ],\n",
       "       [  1. , 202.5],\n",
       "       [  1. , 177. ],\n",
       "       [  1. , 293.6],\n",
       "       [  1. , 206.9],\n",
       "       [  1. ,  25.1],\n",
       "       [  1. , 175.1],\n",
       "       [  1. ,  89.7],\n",
       "       [  1. , 239.9],\n",
       "       [  1. , 227.2],\n",
       "       [  1. ,  66.9],\n",
       "       [  1. , 199.8],\n",
       "       [  1. , 100.4],\n",
       "       [  1. , 216.4],\n",
       "       [  1. , 182.6],\n",
       "       [  1. , 262.7],\n",
       "       [  1. , 198.9],\n",
       "       [  1. ,   7.3],\n",
       "       [  1. , 136.2],\n",
       "       [  1. , 210.8],\n",
       "       [  1. , 210.7],\n",
       "       [  1. ,  53.5],\n",
       "       [  1. , 261.3],\n",
       "       [  1. , 239.3],\n",
       "       [  1. , 102.7],\n",
       "       [  1. , 131.1],\n",
       "       [  1. ,  69. ],\n",
       "       [  1. ,  31.5],\n",
       "       [  1. , 139.3],\n",
       "       [  1. , 237.4],\n",
       "       [  1. , 216.8],\n",
       "       [  1. , 199.1],\n",
       "       [  1. , 109.8],\n",
       "       [  1. ,  26.8],\n",
       "       [  1. , 129.4],\n",
       "       [  1. , 213.4],\n",
       "       [  1. ,  16.9],\n",
       "       [  1. ,  27.5],\n",
       "       [  1. , 120.5],\n",
       "       [  1. ,   5.4],\n",
       "       [  1. , 116. ],\n",
       "       [  1. ,  76.4],\n",
       "       [  1. , 239.8],\n",
       "       [  1. ,  75.3],\n",
       "       [  1. ,  68.4],\n",
       "       [  1. , 213.5],\n",
       "       [  1. , 193.2],\n",
       "       [  1. ,  76.3],\n",
       "       [  1. , 110.7],\n",
       "       [  1. ,  88.3],\n",
       "       [  1. , 109.8],\n",
       "       [  1. , 134.3],\n",
       "       [  1. ,  28.6],\n",
       "       [  1. , 217.7],\n",
       "       [  1. , 250.9],\n",
       "       [  1. , 107.4],\n",
       "       [  1. , 163.3],\n",
       "       [  1. , 197.6],\n",
       "       [  1. , 184.9],\n",
       "       [  1. , 289.7],\n",
       "       [  1. , 135.2],\n",
       "       [  1. , 222.4],\n",
       "       [  1. , 296.4],\n",
       "       [  1. , 280.2],\n",
       "       [  1. , 187.9],\n",
       "       [  1. , 238.2],\n",
       "       [  1. , 137.9],\n",
       "       [  1. ,  25. ],\n",
       "       [  1. ,  90.4],\n",
       "       [  1. ,  13.1],\n",
       "       [  1. , 255.4],\n",
       "       [  1. , 225.8],\n",
       "       [  1. , 241.7],\n",
       "       [  1. , 175.7],\n",
       "       [  1. , 209.6],\n",
       "       [  1. ,  78.2],\n",
       "       [  1. ,  75.1],\n",
       "       [  1. , 139.2],\n",
       "       [  1. ,  76.4],\n",
       "       [  1. , 125.7],\n",
       "       [  1. ,  19.4],\n",
       "       [  1. , 141.3],\n",
       "       [  1. ,  18.8],\n",
       "       [  1. , 224. ],\n",
       "       [  1. , 123.1],\n",
       "       [  1. , 229.5],\n",
       "       [  1. ,  87.2],\n",
       "       [  1. ,   7.8],\n",
       "       [  1. ,  80.2],\n",
       "       [  1. , 220.3],\n",
       "       [  1. ,  59.6],\n",
       "       [  1. ,   0.7],\n",
       "       [  1. , 265.2],\n",
       "       [  1. ,   8.4],\n",
       "       [  1. , 219.8],\n",
       "       [  1. ,  36.9],\n",
       "       [  1. ,  48.3],\n",
       "       [  1. ,  25.6],\n",
       "       [  1. , 273.7],\n",
       "       [  1. ,  43. ],\n",
       "       [  1. , 184.9],\n",
       "       [  1. ,  73.4],\n",
       "       [  1. , 193.7],\n",
       "       [  1. , 220.5],\n",
       "       [  1. , 104.6],\n",
       "       [  1. ,  96.2],\n",
       "       [  1. , 140.3],\n",
       "       [  1. , 240.1],\n",
       "       [  1. , 243.2],\n",
       "       [  1. ,  38. ],\n",
       "       [  1. ,  44.7],\n",
       "       [  1. , 280.7],\n",
       "       [  1. , 121. ],\n",
       "       [  1. , 197.6],\n",
       "       [  1. , 171.3],\n",
       "       [  1. , 187.8],\n",
       "       [  1. ,   4.1],\n",
       "       [  1. ,  93.9],\n",
       "       [  1. , 149.8],\n",
       "       [  1. ,  11.7],\n",
       "       [  1. , 131.7],\n",
       "       [  1. , 172.5],\n",
       "       [  1. ,  85.7],\n",
       "       [  1. , 188.4],\n",
       "       [  1. , 163.5],\n",
       "       [  1. , 117.2],\n",
       "       [  1. , 234.5],\n",
       "       [  1. ,  17.9],\n",
       "       [  1. , 206.8],\n",
       "       [  1. , 215.4],\n",
       "       [  1. , 284.3],\n",
       "       [  1. ,  50. ],\n",
       "       [  1. , 164.5],\n",
       "       [  1. ,  19.6],\n",
       "       [  1. , 168.4],\n",
       "       [  1. , 222.4],\n",
       "       [  1. , 276.9],\n",
       "       [  1. , 248.4],\n",
       "       [  1. , 170.2],\n",
       "       [  1. , 276.7],\n",
       "       [  1. , 165.6],\n",
       "       [  1. , 156.6],\n",
       "       [  1. , 218.5],\n",
       "       [  1. ,  56.2],\n",
       "       [  1. , 287.6],\n",
       "       [  1. , 253.8],\n",
       "       [  1. , 205. ],\n",
       "       [  1. , 139.5],\n",
       "       [  1. , 191.1],\n",
       "       [  1. , 286. ],\n",
       "       [  1. ,  18.7],\n",
       "       [  1. ,  39.5],\n",
       "       [  1. ,  75.5],\n",
       "       [  1. ,  17.2],\n",
       "       [  1. , 166.8],\n",
       "       [  1. , 149.7],\n",
       "       [  1. ,  38.2],\n",
       "       [  1. ,  94.2],\n",
       "       [  1. , 177. ],\n",
       "       [  1. , 283.6],\n",
       "       [  1. , 232.1]])"
      ]
     },
     "execution_count": 122,
     "metadata": {},
     "output_type": "execute_result"
    }
   ],
   "source": [
    "import numpy as np\n",
    "# Y is a respones variable\n",
    "Y = sales = adv[\"sales\"]\n",
    "# Antag att regressionen av \"TV\" på \"sales\" är ungefär linjär\n",
    "# Y = ß0 + ß1 X\n",
    "# sales = 1 * ß0 + \"TV\" * ß1\n",
    "# Modellspecifikationsmatrisen (designmatrisen) beöver en 1:a i första kolumnen\n",
    "X = TV = np.column_stack([np.ones(Y.shape[0]), adv[\"TV\"]])\n",
    "X\n"
   ]
  },
  {
   "cell_type": "markdown",
   "metadata": {},
   "source": [
    "$$\n",
    "\\widehat{B} = b = (X^TX)^{-1} X^Ty.\n",
    "$$\n"
   ]
  },
  {
   "cell_type": "code",
   "execution_count": 123,
   "metadata": {},
   "outputs": [
    {
     "data": {
      "text/plain": [
       "array([7.03259355, 0.04753664])"
      ]
     },
     "execution_count": 123,
     "metadata": {},
     "output_type": "execute_result"
    }
   ],
   "source": [
    "# pseudo-invers för prestanda\n",
    "b = np.linalg.pinv(X.T @ X) @ X.T @ Y\n",
    "b"
   ]
  },
  {
   "cell_type": "markdown",
   "metadata": {},
   "source": [
    "Efter regression får vi en skattare för \\( y \\):\n",
    "\n",
    "$$\n",
    "\\hat{y} = \\beta_0 + \\beta_1 x\n",
    "$$\n",
    "\n",
    "Modellen är alltså:\n",
    "\n",
    "$$\n",
    "\\hat{y} = 7.0325 + 0.0475x\n",
    "$$"
   ]
  },
  {
   "cell_type": "code",
   "execution_count": 124,
   "metadata": {},
   "outputs": [
    {
     "data": {
      "text/plain": [
       "[<matplotlib.lines.Line2D at 0x1fdb4626090>]"
      ]
     },
     "execution_count": 124,
     "metadata": {},
     "output_type": "execute_result"
    },
    {
     "data": {
      "image/png": "[encoded data removed]",
      "text/plain": [
       "<Figure size 640x480 with 1 Axes>"
      ]
     },
     "metadata": {},
     "output_type": "display_data"
    }
   ],
   "source": [
    "import matplotlib.pyplot as plt\n",
    "\n",
    "plt.scatter(X[:, 1], Y)\n",
    "x = np.linspace(0, 300)\n",
    "y_hat = b[0] + b[1]*x\n",
    "plt.plot(x, y_hat, c=\"red\")"
   ]
  },
  {
   "cell_type": "markdown",
   "metadata": {},
   "source": [
    "SSE = (y1 - ß0 - ß1 x1)^2 + (y^2 - ß0 - ß1 x2 )^2 + . . . + (yn - ß0 - ß1 xn )^2"
   ]
  },
  {
   "cell_type": "code",
   "execution_count": 125,
   "metadata": {},
   "outputs": [
    {
     "name": "stdout",
     "output_type": "stream",
     "text": [
      "[[ 22.1   1.  230.1]\n",
      " [ 10.4   1.   44.5]\n",
      " [  9.3   1.   17.2]\n",
      " [ 18.5   1.  151.5]\n",
      " [ 12.9   1.  180.8]\n",
      " [  7.2   1.    8.7]\n",
      " [ 11.8   1.   57.5]\n",
      " [ 13.2   1.  120.2]\n",
      " [  4.8   1.    8.6]\n",
      " [ 10.6   1.  199.8]\n",
      " [  8.6   1.   66.1]\n",
      " [ 17.4   1.  214.7]\n",
      " [  9.2   1.   23.8]\n",
      " [  9.7   1.   97.5]\n",
      " [ 19.    1.  204.1]\n",
      " [ 22.4   1.  195.4]\n",
      " [ 12.5   1.   67.8]\n",
      " [ 24.4   1.  281.4]\n",
      " [ 11.3   1.   69.2]\n",
      " [ 14.6   1.  147.3]\n",
      " [ 18.    1.  218.4]\n",
      " [ 12.5   1.  237.4]\n",
      " [  5.6   1.   13.2]\n",
      " [ 15.5   1.  228.3]\n",
      " [  9.7   1.   62.3]\n",
      " [ 12.    1.  262.9]\n",
      " [ 15.    1.  142.9]\n",
      " [ 15.9   1.  240.1]\n",
      " [ 18.9   1.  248.8]\n",
      " [ 10.5   1.   70.6]\n",
      " [ 21.4   1.  292.9]\n",
      " [ 11.9   1.  112.9]\n",
      " [  9.6   1.   97.2]\n",
      " [ 17.4   1.  265.6]\n",
      " [  9.5   1.   95.7]\n",
      " [ 12.8   1.  290.7]\n",
      " [ 25.4   1.  266.9]\n",
      " [ 14.7   1.   74.7]\n",
      " [ 10.1   1.   43.1]\n",
      " [ 21.5   1.  228. ]\n",
      " [ 16.6   1.  202.5]\n",
      " [ 17.1   1.  177. ]\n",
      " [ 20.7   1.  293.6]\n",
      " [ 12.9   1.  206.9]\n",
      " [  8.5   1.   25.1]\n",
      " [ 14.9   1.  175.1]\n",
      " [ 10.6   1.   89.7]\n",
      " [ 23.2   1.  239.9]\n",
      " [ 14.8   1.  227.2]\n",
      " [  9.7   1.   66.9]\n",
      " [ 11.4   1.  199.8]\n",
      " [ 10.7   1.  100.4]\n",
      " [ 22.6   1.  216.4]\n",
      " [ 21.2   1.  182.6]\n",
      " [ 20.2   1.  262.7]\n",
      " [ 23.7   1.  198.9]\n",
      " [  5.5   1.    7.3]\n",
      " [ 13.2   1.  136.2]\n",
      " [ 23.8   1.  210.8]\n",
      " [ 18.4   1.  210.7]\n",
      " [  8.1   1.   53.5]\n",
      " [ 24.2   1.  261.3]\n",
      " [ 15.7   1.  239.3]\n",
      " [ 14.    1.  102.7]\n",
      " [ 18.    1.  131.1]\n",
      " [  9.3   1.   69. ]\n",
      " [  9.5   1.   31.5]\n",
      " [ 13.4   1.  139.3]\n",
      " [ 18.9   1.  237.4]\n",
      " [ 22.3   1.  216.8]\n",
      " [ 18.3   1.  199.1]\n",
      " [ 12.4   1.  109.8]\n",
      " [  8.8   1.   26.8]\n",
      " [ 11.    1.  129.4]\n",
      " [ 17.    1.  213.4]\n",
      " [  8.7   1.   16.9]\n",
      " [  6.9   1.   27.5]\n",
      " [ 14.2   1.  120.5]\n",
      " [  5.3   1.    5.4]\n",
      " [ 11.    1.  116. ]\n",
      " [ 11.8   1.   76.4]\n",
      " [ 12.3   1.  239.8]\n",
      " [ 11.3   1.   75.3]\n",
      " [ 13.6   1.   68.4]\n",
      " [ 21.7   1.  213.5]\n",
      " [ 15.2   1.  193.2]\n",
      " [ 12.    1.   76.3]\n",
      " [ 16.    1.  110.7]\n",
      " [ 12.9   1.   88.3]\n",
      " [ 16.7   1.  109.8]\n",
      " [ 11.2   1.  134.3]\n",
      " [  7.3   1.   28.6]\n",
      " [ 19.4   1.  217.7]\n",
      " [ 22.2   1.  250.9]\n",
      " [ 11.5   1.  107.4]\n",
      " [ 16.9   1.  163.3]\n",
      " [ 11.7   1.  197.6]\n",
      " [ 15.5   1.  184.9]\n",
      " [ 25.4   1.  289.7]\n",
      " [ 17.2   1.  135.2]\n",
      " [ 11.7   1.  222.4]\n",
      " [ 23.8   1.  296.4]\n",
      " [ 14.8   1.  280.2]\n",
      " [ 14.7   1.  187.9]\n",
      " [ 20.7   1.  238.2]\n",
      " [ 19.2   1.  137.9]\n",
      " [  7.2   1.   25. ]\n",
      " [  8.7   1.   90.4]\n",
      " [  5.3   1.   13.1]\n",
      " [ 19.8   1.  255.4]\n",
      " [ 13.4   1.  225.8]\n",
      " [ 21.8   1.  241.7]\n",
      " [ 14.1   1.  175.7]\n",
      " [ 15.9   1.  209.6]\n",
      " [ 14.6   1.   78.2]\n",
      " [ 12.6   1.   75.1]\n",
      " [ 12.2   1.  139.2]\n",
      " [  9.4   1.   76.4]\n",
      " [ 15.9   1.  125.7]\n",
      " [  6.6   1.   19.4]\n",
      " [ 15.5   1.  141.3]\n",
      " [  7.    1.   18.8]\n",
      " [ 11.6   1.  224. ]\n",
      " [ 15.2   1.  123.1]\n",
      " [ 19.7   1.  229.5]\n",
      " [ 10.6   1.   87.2]\n",
      " [  6.6   1.    7.8]\n",
      " [  8.8   1.   80.2]\n",
      " [ 24.7   1.  220.3]\n",
      " [  9.7   1.   59.6]\n",
      " [  1.6   1.    0.7]\n",
      " [ 12.7   1.  265.2]\n",
      " [  5.7   1.    8.4]\n",
      " [ 19.6   1.  219.8]\n",
      " [ 10.8   1.   36.9]\n",
      " [ 11.6   1.   48.3]\n",
      " [  9.5   1.   25.6]\n",
      " [ 20.8   1.  273.7]\n",
      " [  9.6   1.   43. ]\n",
      " [ 20.7   1.  184.9]\n",
      " [ 10.9   1.   73.4]\n",
      " [ 19.2   1.  193.7]\n",
      " [ 20.1   1.  220.5]\n",
      " [ 10.4   1.  104.6]\n",
      " [ 11.4   1.   96.2]\n",
      " [ 10.3   1.  140.3]\n",
      " [ 13.2   1.  240.1]\n",
      " [ 25.4   1.  243.2]\n",
      " [ 10.9   1.   38. ]\n",
      " [ 10.1   1.   44.7]\n",
      " [ 16.1   1.  280.7]\n",
      " [ 11.6   1.  121. ]\n",
      " [ 16.6   1.  197.6]\n",
      " [ 19.    1.  171.3]\n",
      " [ 15.6   1.  187.8]\n",
      " [  3.2   1.    4.1]\n",
      " [ 15.3   1.   93.9]\n",
      " [ 10.1   1.  149.8]\n",
      " [  7.3   1.   11.7]\n",
      " [ 12.9   1.  131.7]\n",
      " [ 14.4   1.  172.5]\n",
      " [ 13.3   1.   85.7]\n",
      " [ 14.9   1.  188.4]\n",
      " [ 18.    1.  163.5]\n",
      " [ 11.9   1.  117.2]\n",
      " [ 11.9   1.  234.5]\n",
      " [  8.    1.   17.9]\n",
      " [ 12.2   1.  206.8]\n",
      " [ 17.1   1.  215.4]\n",
      " [ 15.    1.  284.3]\n",
      " [  8.4   1.   50. ]\n",
      " [ 14.5   1.  164.5]\n",
      " [  7.6   1.   19.6]\n",
      " [ 11.7   1.  168.4]\n",
      " [ 11.5   1.  222.4]\n",
      " [ 27.    1.  276.9]\n",
      " [ 20.2   1.  248.4]\n",
      " [ 11.7   1.  170.2]\n",
      " [ 11.8   1.  276.7]\n",
      " [ 12.6   1.  165.6]\n",
      " [ 10.5   1.  156.6]\n",
      " [ 12.2   1.  218.5]\n",
      " [  8.7   1.   56.2]\n",
      " [ 26.2   1.  287.6]\n",
      " [ 17.6   1.  253.8]\n",
      " [ 22.6   1.  205. ]\n",
      " [ 10.3   1.  139.5]\n",
      " [ 17.3   1.  191.1]\n",
      " [ 15.9   1.  286. ]\n",
      " [  6.7   1.   18.7]\n",
      " [ 10.8   1.   39.5]\n",
      " [  9.9   1.   75.5]\n",
      " [  5.9   1.   17.2]\n",
      " [ 19.6   1.  166.8]\n",
      " [ 17.3   1.  149.7]\n",
      " [  7.6   1.   38.2]\n",
      " [  9.7   1.   94.2]\n",
      " [ 12.8   1.  177. ]\n",
      " [ 25.5   1.  283.6]\n",
      " [ 13.4   1.  232.1]]\n"
     ]
    }
   ],
   "source": [
    "# RSS Residual Sum of Squares\n",
    "# SSE Sum of Square Errors\n",
    "# Samma sak!\n",
    "# stickprovets strolek\n",
    "n = Y.shape[0]\n",
    "# antalet parametrar, bara TV . detta fall, så 1\n",
    "v = X.shape[1] - 1\n",
    "\n",
    "SSE = np.sum(np.square(Y - (X @ b)))\n",
    "\n",
    "print(np.column_stack([Y, X]))\n"
   ]
  },
  {
   "cell_type": "markdown",
   "metadata": {},
   "source": [
    "$\\texttt {Cov}(X, Y) = E[(X - \\mu_X) (Y - \\mu_Y)] = E[XY]= E[X]E[Y]$\n",
    "\n",
    "$S_{xy} \\rightarrow \\sum{(X - \\mu_X)(Y - \\mu_Y)}$\n",
    "\n",
    "Om X och Y är oberoende så är Cov(X, Y) = 0, men vi kan inte anta det omvända. Dvs Cov=0 betyder inte nödvändigtvis att X och Y är oberoende, men de är åtminstone inte linjärt beroende."
   ]
  },
  {
   "cell_type": "markdown",
   "metadata": {},
   "source": [
    "En starkare egenskap är korrelation (Pearson coefficient of correlation), som är ett värde mellan -1 och 1 (inklusive ändpunkterna).\n",
    "\n",
    "Låt $X$ ocvh $Y$ vara slumpvariabler med medel $\\mu_x$ respektive $\\mu_Y$ samt varianser $\\sigma_X^2$ och $\\sigma_Y^2$.\n",
    "Korrelationen melland $X$ och $Y$ ges då av:\n",
    "\\begin{equation*}\n",
    "\\rho_{XY} = \\frac{\\texttt{Cov}(X, Y)}{\\sqrt{\\texttt{(VarX)}\\,\\texttt{(VarY)}}} \n",
    "\\end{equation*}\n",
    "\n",
    "Om Pearsonkoefficienten är 1 eller -1 ($|\\rho_{XY}| = 1$) då har vi visat att det finns en ekvation:\n",
    "$Y = \\beta_0 + \\beta_1X$"
   ]
  },
  {
   "cell_type": "markdown",
   "metadata": {},
   "source": [
    "Standarfel (kring medles):\n",
    "\\begin{equation}\n",
    "\\frac{\\sigma^2}{n}\n",
    "\\end{equation}"
   ]
  },
  {
   "cell_type": "code",
   "execution_count": 126,
   "metadata": {},
   "outputs": [
    {
     "data": {
      "text/plain": [
       "((200, 2), (200,))"
      ]
     },
     "execution_count": 126,
     "metadata": {},
     "output_type": "execute_result"
    }
   ],
   "source": [
    "X.shape, Y.shape"
   ]
  },
  {
   "cell_type": "code",
   "execution_count": 127,
   "metadata": {},
   "outputs": [
    {
     "name": "stdout",
     "output_type": "stream",
     "text": [
      "Confidence interval on predictor β1: 0.0475 ± 0.0055 interval: [0.042, 0.053]\n"
     ]
    }
   ],
   "source": [
    "var = SSE/(n-v-1)\n",
    "\n",
    "S = np.sqrt(var) # residual standard error, alltså en uppskattning av standardfelet/ stickprovsavvikelsen\n",
    "# Sum of squares Regression\n",
    "SSR = np.sum(b* (X.T @ Y)) - (np.square(np.sum(Y))/n)\n",
    "Syy = (n*np.sum(np.square(Y)) - np.square(np.sum(Y)))/n\n",
    "Sxx = (n*np.sum(np.square(X)) - np.square(np.sum(X)))/n\n",
    "\n",
    "Sxy = (n*np.sum(X[:, 1]@Y) - (np.sum(X[:, 1])*np.sum(Y)))/n\n",
    "\n",
    "# Standard error (of the mean)\n",
    "se = var / n\n",
    "\n",
    "# square of standard error of β1 = var/Sxx\n",
    "se_b = var/Sxx\n",
    "\n",
    "ci = (b[1], 2*np.sqrt(se_b))\n",
    "print(f\"Confidence interval on predictor β1: {ci[0]:.4f} ± {ci[1]:.4f} interval: [{ci[0] - ci[1]:.3f}, {ci[0] + ci[1]:.3f}]\")\n"
   ]
  },
  {
   "cell_type": "markdown",
   "metadata": {},
   "source": [
    "Detta är väldigt ungefärligt ett 90% interval (<2σ). Om vi kör regressionen många gånger på delmängder av datan (som skall ha samma medel, dvs vara balanserade) så väntar vi oss att 90% av värdena hamnar mellan 0.053 och 0.042."
   ]
  },
  {
   "cell_type": "code",
   "execution_count": 128,
   "metadata": {},
   "outputs": [
    {
     "data": {
      "text/plain": [
       "0.30727303071635115"
      ]
     },
     "execution_count": 128,
     "metadata": {},
     "output_type": "execute_result"
    }
   ],
   "source": [
    "x_mean = np.mean(X)\n",
    "se_intercept = var * ((1/n) + (np.square(x_mean)/Sxx))\n",
    "np.sqrt(se_intercept)"
   ]
  },
  {
   "cell_type": "code",
   "execution_count": 129,
   "metadata": {},
   "outputs": [
    {
     "name": "stdout",
     "output_type": "stream",
     "text": [
      "Confidence interval on predictor ß0: 7.033 ± 0.615 interval: [6.418, 7.647]\n"
     ]
    }
   ],
   "source": [
    "ci = (b[0], 2*np.sqrt(se_intercept))\n",
    "print(f\"Confidence interval on predictor ß0: {ci[0]:.3f} ± {ci[1]:.3f} interval: [{b[0]- ci[1]:.3f}, {b[0] + ci[1]:.3f}]\")"
   ]
  },
  {
   "cell_type": "code",
   "execution_count": 130,
   "metadata": {},
   "outputs": [
    {
     "data": {
      "text/plain": [
       "7.032593549127828"
      ]
     },
     "execution_count": 130,
     "metadata": {},
     "output_type": "execute_result"
    }
   ],
   "source": [
    "# borde bli [6.130, 7.935]\n",
    "b[0]"
   ]
  },
  {
   "cell_type": "markdown",
   "metadata": {},
   "source": [
    "### Hypotestestning\n",
    "Noll_hypotes:\n",
    "\n",
    "$H_0$ : There is no relationship between X and Y\n",
    "\n",
    "Alternativ hypotes:\n",
    "\n",
    "$H_a$ : There is a relationship between X and Y\n",
    "\n",
    "$H_o$ : β1 = 0\n",
    "\n",
    "$H_a$ : β1 ≠ 0\n",
    "\n",
    "T-statistika för att testa relevans\n",
    "\\begin{equation*}\n",
    "t = \\frac{\\hat{\\beta}_1 - \\mathbb{0}}{SE(\\hat{\\beta}_1)}\n",
    "\\end{equation*}\n",
    "\n",
    "\n",
    "\n",
    "\n"
   ]
  },
  {
   "cell_type": "code",
   "execution_count": 131,
   "metadata": {},
   "outputs": [
    {
     "data": {
      "text/plain": [
       "17.309780472029264"
      ]
     },
     "execution_count": 131,
     "metadata": {},
     "output_type": "execute_result"
    }
   ],
   "source": [
    "t = b[1]/np.sqrt(se_b)\n",
    "t\n",
    "# t => antalet standard deviationer bort ett värde 0 för ß1 skulle vara om t=2 är det alltså 95% chans att det är korrekt. Ett värde på 17 (dvs 17σ) motsvarar ett tal med 42 nolloer efter decimalpunkter"
   ]
  },
  {
   "cell_type": "markdown",
   "metadata": {},
   "source": [
    "Ok, så regressionen är relevant, men hur bra är den?\n",
    "\n",
    "\\begin{equation*}\n",
    "\\hat{\\rho} = r = \\frac{S_{xy}}{\\sqrt{S_{xx}\\, S_{yy}}}\n",
    "\\end{equation*}"
   ]
  },
  {
   "cell_type": "code",
   "execution_count": 132,
   "metadata": {},
   "outputs": [
    {
     "name": "stdout",
     "output_type": "stream",
     "text": [
      "scipy.stats pearsonnr objekt: PearsonRResult(statistic=0.7822244248616067, pvalue=1.4673897001946062e-42)\n",
      "scipy.stats korrelation: 0.7822244248616067\n",
      "sqrt(R²):\t\t 0.7822244248616106\n",
      "R²:\t\t\t 0.6118750508500775\n",
      "Alternativ R²: \t\t 0.6118750508500712\n",
      "r²: 0.6118750508500714\n",
      "Beräkning av r och R² i flera steg: 0.7983953520754693 och r² = 0.6374351382157126\n"
     ]
    }
   ],
   "source": [
    "import scipy.stats as stats\n",
    "rho = Sxy / (np.sqrt(Sxx*Syy))\n",
    "Rsq = SSR/Syy\n",
    "r = stats.pearsonr(X[:, 1], Y)\n",
    "print(f\"scipy.stats pearsonnr objekt: {r}\")\n",
    "print(f\"scipy.stats korrelation: {r.correlation}\\nsqrt(R²):\\t\\t {np.sqrt(Rsq)}\\nR²:\\t\\t\\t {Rsq}\\nAlternativ R²: \\t\\t {1 - (SSE/Syy)}\\nr²: {np.square(r.correlation)}\\nBeräkning av r och R² i flera steg: {rho} och r² = {np.square(rho)}\")"
   ]
  },
  {
   "cell_type": "markdown",
   "metadata": {},
   "source": [
    "Multipel linjär regression\n",
    "Mikro.y(x1,x2,x3) = b0 + b1x1 + b2x2 + b3x3\n",
    "Y = X1b + E\n",
    "\n",
    "där X är modellspecifikation matrisen. E är vektorn med stokatiska fel med avseende på väntevärdet och Y är en respons vektor för Y över hela stickprovet. "
   ]
  },
  {
   "cell_type": "code",
   "execution_count": 133,
   "metadata": {},
   "outputs": [
    {
     "data": {
      "text/html": [
       "<div>\n",
       "<style scoped>\n",
       "    .dataframe tbody tr th:only-of-type {\n",
       "        vertical-align: middle;\n",
       "    }\n",
       "\n",
       "    .dataframe tbody tr th {\n",
       "        vertical-align: top;\n",
       "    }\n",
       "\n",
       "    .dataframe thead th {\n",
       "        text-align: right;\n",
       "    }\n",
       "</style>\n",
       "<table border=\"1\" class=\"dataframe\">\n",
       "  <thead>\n",
       "    <tr style=\"text-align: right;\">\n",
       "      <th></th>\n",
       "      <th>TV</th>\n",
       "      <th>radio</th>\n",
       "      <th>newspaper</th>\n",
       "      <th>sales</th>\n",
       "    </tr>\n",
       "  </thead>\n",
       "  <tbody>\n",
       "    <tr>\n",
       "      <th>1</th>\n",
       "      <td>230.1</td>\n",
       "      <td>37.8</td>\n",
       "      <td>69.2</td>\n",
       "      <td>22.1</td>\n",
       "    </tr>\n",
       "    <tr>\n",
       "      <th>2</th>\n",
       "      <td>44.5</td>\n",
       "      <td>39.3</td>\n",
       "      <td>45.1</td>\n",
       "      <td>10.4</td>\n",
       "    </tr>\n",
       "    <tr>\n",
       "      <th>3</th>\n",
       "      <td>17.2</td>\n",
       "      <td>45.9</td>\n",
       "      <td>69.3</td>\n",
       "      <td>9.3</td>\n",
       "    </tr>\n",
       "    <tr>\n",
       "      <th>4</th>\n",
       "      <td>151.5</td>\n",
       "      <td>41.3</td>\n",
       "      <td>58.5</td>\n",
       "      <td>18.5</td>\n",
       "    </tr>\n",
       "    <tr>\n",
       "      <th>5</th>\n",
       "      <td>180.8</td>\n",
       "      <td>10.8</td>\n",
       "      <td>58.4</td>\n",
       "      <td>12.9</td>\n",
       "    </tr>\n",
       "  </tbody>\n",
       "</table>\n",
       "</div>"
      ],
      "text/plain": [
       "      TV  radio  newspaper  sales\n",
       "1  230.1   37.8       69.2   22.1\n",
       "2   44.5   39.3       45.1   10.4\n",
       "3   17.2   45.9       69.3    9.3\n",
       "4  151.5   41.3       58.5   18.5\n",
       "5  180.8   10.8       58.4   12.9"
      ]
     },
     "execution_count": 133,
     "metadata": {},
     "output_type": "execute_result"
    }
   ],
   "source": [
    "import pandas as pd\n",
    "\n",
    "data_path = \"C:/Source/AI och Maskinlära 2024 YH/statistiska_metoder/ALL CSV FILES - 2nd Edition/\"\n",
    "\n",
    "adv = pd.read_csv(data_path+\"Advertising.csv\", index_col=0)\n",
    "adv.head()"
   ]
  },
  {
   "cell_type": "code",
   "execution_count": 134,
   "metadata": {},
   "outputs": [
    {
     "data": {
      "text/plain": [
       "array([[  1. , 230.1,  37.8,  69.2],\n",
       "       [  1. ,  44.5,  39.3,  45.1],\n",
       "       [  1. ,  17.2,  45.9,  69.3],\n",
       "       [  1. , 151.5,  41.3,  58.5],\n",
       "       [  1. , 180.8,  10.8,  58.4],\n",
       "       [  1. ,   8.7,  48.9,  75. ],\n",
       "       [  1. ,  57.5,  32.8,  23.5],\n",
       "       [  1. , 120.2,  19.6,  11.6],\n",
       "       [  1. ,   8.6,   2.1,   1. ],\n",
       "       [  1. , 199.8,   2.6,  21.2],\n",
       "       [  1. ,  66.1,   5.8,  24.2],\n",
       "       [  1. , 214.7,  24. ,   4. ],\n",
       "       [  1. ,  23.8,  35.1,  65.9],\n",
       "       [  1. ,  97.5,   7.6,   7.2],\n",
       "       [  1. , 204.1,  32.9,  46. ],\n",
       "       [  1. , 195.4,  47.7,  52.9],\n",
       "       [  1. ,  67.8,  36.6, 114. ],\n",
       "       [  1. , 281.4,  39.6,  55.8],\n",
       "       [  1. ,  69.2,  20.5,  18.3],\n",
       "       [  1. , 147.3,  23.9,  19.1],\n",
       "       [  1. , 218.4,  27.7,  53.4],\n",
       "       [  1. , 237.4,   5.1,  23.5],\n",
       "       [  1. ,  13.2,  15.9,  49.6],\n",
       "       [  1. , 228.3,  16.9,  26.2],\n",
       "       [  1. ,  62.3,  12.6,  18.3],\n",
       "       [  1. , 262.9,   3.5,  19.5],\n",
       "       [  1. , 142.9,  29.3,  12.6],\n",
       "       [  1. , 240.1,  16.7,  22.9],\n",
       "       [  1. , 248.8,  27.1,  22.9],\n",
       "       [  1. ,  70.6,  16. ,  40.8],\n",
       "       [  1. , 292.9,  28.3,  43.2],\n",
       "       [  1. , 112.9,  17.4,  38.6],\n",
       "       [  1. ,  97.2,   1.5,  30. ],\n",
       "       [  1. , 265.6,  20. ,   0.3],\n",
       "       [  1. ,  95.7,   1.4,   7.4],\n",
       "       [  1. , 290.7,   4.1,   8.5],\n",
       "       [  1. , 266.9,  43.8,   5. ],\n",
       "       [  1. ,  74.7,  49.4,  45.7],\n",
       "       [  1. ,  43.1,  26.7,  35.1],\n",
       "       [  1. , 228. ,  37.7,  32. ],\n",
       "       [  1. , 202.5,  22.3,  31.6],\n",
       "       [  1. , 177. ,  33.4,  38.7],\n",
       "       [  1. , 293.6,  27.7,   1.8],\n",
       "       [  1. , 206.9,   8.4,  26.4],\n",
       "       [  1. ,  25.1,  25.7,  43.3],\n",
       "       [  1. , 175.1,  22.5,  31.5],\n",
       "       [  1. ,  89.7,   9.9,  35.7],\n",
       "       [  1. , 239.9,  41.5,  18.5],\n",
       "       [  1. , 227.2,  15.8,  49.9],\n",
       "       [  1. ,  66.9,  11.7,  36.8],\n",
       "       [  1. , 199.8,   3.1,  34.6],\n",
       "       [  1. , 100.4,   9.6,   3.6],\n",
       "       [  1. , 216.4,  41.7,  39.6],\n",
       "       [  1. , 182.6,  46.2,  58.7],\n",
       "       [  1. , 262.7,  28.8,  15.9],\n",
       "       [  1. , 198.9,  49.4,  60. ],\n",
       "       [  1. ,   7.3,  28.1,  41.4],\n",
       "       [  1. , 136.2,  19.2,  16.6],\n",
       "       [  1. , 210.8,  49.6,  37.7],\n",
       "       [  1. , 210.7,  29.5,   9.3],\n",
       "       [  1. ,  53.5,   2. ,  21.4],\n",
       "       [  1. , 261.3,  42.7,  54.7],\n",
       "       [  1. , 239.3,  15.5,  27.3],\n",
       "       [  1. , 102.7,  29.6,   8.4],\n",
       "       [  1. , 131.1,  42.8,  28.9],\n",
       "       [  1. ,  69. ,   9.3,   0.9],\n",
       "       [  1. ,  31.5,  24.6,   2.2],\n",
       "       [  1. , 139.3,  14.5,  10.2],\n",
       "       [  1. , 237.4,  27.5,  11. ],\n",
       "       [  1. , 216.8,  43.9,  27.2],\n",
       "       [  1. , 199.1,  30.6,  38.7],\n",
       "       [  1. , 109.8,  14.3,  31.7],\n",
       "       [  1. ,  26.8,  33. ,  19.3],\n",
       "       [  1. , 129.4,   5.7,  31.3],\n",
       "       [  1. , 213.4,  24.6,  13.1],\n",
       "       [  1. ,  16.9,  43.7,  89.4],\n",
       "       [  1. ,  27.5,   1.6,  20.7],\n",
       "       [  1. , 120.5,  28.5,  14.2],\n",
       "       [  1. ,   5.4,  29.9,   9.4],\n",
       "       [  1. , 116. ,   7.7,  23.1],\n",
       "       [  1. ,  76.4,  26.7,  22.3],\n",
       "       [  1. , 239.8,   4.1,  36.9],\n",
       "       [  1. ,  75.3,  20.3,  32.5],\n",
       "       [  1. ,  68.4,  44.5,  35.6],\n",
       "       [  1. , 213.5,  43. ,  33.8],\n",
       "       [  1. , 193.2,  18.4,  65.7],\n",
       "       [  1. ,  76.3,  27.5,  16. ],\n",
       "       [  1. , 110.7,  40.6,  63.2],\n",
       "       [  1. ,  88.3,  25.5,  73.4],\n",
       "       [  1. , 109.8,  47.8,  51.4],\n",
       "       [  1. , 134.3,   4.9,   9.3],\n",
       "       [  1. ,  28.6,   1.5,  33. ],\n",
       "       [  1. , 217.7,  33.5,  59. ],\n",
       "       [  1. , 250.9,  36.5,  72.3],\n",
       "       [  1. , 107.4,  14. ,  10.9],\n",
       "       [  1. , 163.3,  31.6,  52.9],\n",
       "       [  1. , 197.6,   3.5,   5.9],\n",
       "       [  1. , 184.9,  21. ,  22. ],\n",
       "       [  1. , 289.7,  42.3,  51.2],\n",
       "       [  1. , 135.2,  41.7,  45.9],\n",
       "       [  1. , 222.4,   4.3,  49.8],\n",
       "       [  1. , 296.4,  36.3, 100.9],\n",
       "       [  1. , 280.2,  10.1,  21.4],\n",
       "       [  1. , 187.9,  17.2,  17.9],\n",
       "       [  1. , 238.2,  34.3,   5.3],\n",
       "       [  1. , 137.9,  46.4,  59. ],\n",
       "       [  1. ,  25. ,  11. ,  29.7],\n",
       "       [  1. ,  90.4,   0.3,  23.2],\n",
       "       [  1. ,  13.1,   0.4,  25.6],\n",
       "       [  1. , 255.4,  26.9,   5.5],\n",
       "       [  1. , 225.8,   8.2,  56.5],\n",
       "       [  1. , 241.7,  38. ,  23.2],\n",
       "       [  1. , 175.7,  15.4,   2.4],\n",
       "       [  1. , 209.6,  20.6,  10.7],\n",
       "       [  1. ,  78.2,  46.8,  34.5],\n",
       "       [  1. ,  75.1,  35. ,  52.7],\n",
       "       [  1. , 139.2,  14.3,  25.6],\n",
       "       [  1. ,  76.4,   0.8,  14.8],\n",
       "       [  1. , 125.7,  36.9,  79.2],\n",
       "       [  1. ,  19.4,  16. ,  22.3],\n",
       "       [  1. , 141.3,  26.8,  46.2],\n",
       "       [  1. ,  18.8,  21.7,  50.4],\n",
       "       [  1. , 224. ,   2.4,  15.6],\n",
       "       [  1. , 123.1,  34.6,  12.4],\n",
       "       [  1. , 229.5,  32.3,  74.2],\n",
       "       [  1. ,  87.2,  11.8,  25.9],\n",
       "       [  1. ,   7.8,  38.9,  50.6],\n",
       "       [  1. ,  80.2,   0. ,   9.2],\n",
       "       [  1. , 220.3,  49. ,   3.2],\n",
       "       [  1. ,  59.6,  12. ,  43.1],\n",
       "       [  1. ,   0.7,  39.6,   8.7],\n",
       "       [  1. , 265.2,   2.9,  43. ],\n",
       "       [  1. ,   8.4,  27.2,   2.1],\n",
       "       [  1. , 219.8,  33.5,  45.1],\n",
       "       [  1. ,  36.9,  38.6,  65.6],\n",
       "       [  1. ,  48.3,  47. ,   8.5],\n",
       "       [  1. ,  25.6,  39. ,   9.3],\n",
       "       [  1. , 273.7,  28.9,  59.7],\n",
       "       [  1. ,  43. ,  25.9,  20.5],\n",
       "       [  1. , 184.9,  43.9,   1.7],\n",
       "       [  1. ,  73.4,  17. ,  12.9],\n",
       "       [  1. , 193.7,  35.4,  75.6],\n",
       "       [  1. , 220.5,  33.2,  37.9],\n",
       "       [  1. , 104.6,   5.7,  34.4],\n",
       "       [  1. ,  96.2,  14.8,  38.9],\n",
       "       [  1. , 140.3,   1.9,   9. ],\n",
       "       [  1. , 240.1,   7.3,   8.7],\n",
       "       [  1. , 243.2,  49. ,  44.3],\n",
       "       [  1. ,  38. ,  40.3,  11.9],\n",
       "       [  1. ,  44.7,  25.8,  20.6],\n",
       "       [  1. , 280.7,  13.9,  37. ],\n",
       "       [  1. , 121. ,   8.4,  48.7],\n",
       "       [  1. , 197.6,  23.3,  14.2],\n",
       "       [  1. , 171.3,  39.7,  37.7],\n",
       "       [  1. , 187.8,  21.1,   9.5],\n",
       "       [  1. ,   4.1,  11.6,   5.7],\n",
       "       [  1. ,  93.9,  43.5,  50.5],\n",
       "       [  1. , 149.8,   1.3,  24.3],\n",
       "       [  1. ,  11.7,  36.9,  45.2],\n",
       "       [  1. , 131.7,  18.4,  34.6],\n",
       "       [  1. , 172.5,  18.1,  30.7],\n",
       "       [  1. ,  85.7,  35.8,  49.3],\n",
       "       [  1. , 188.4,  18.1,  25.6],\n",
       "       [  1. , 163.5,  36.8,   7.4],\n",
       "       [  1. , 117.2,  14.7,   5.4],\n",
       "       [  1. , 234.5,   3.4,  84.8],\n",
       "       [  1. ,  17.9,  37.6,  21.6],\n",
       "       [  1. , 206.8,   5.2,  19.4],\n",
       "       [  1. , 215.4,  23.6,  57.6],\n",
       "       [  1. , 284.3,  10.6,   6.4],\n",
       "       [  1. ,  50. ,  11.6,  18.4],\n",
       "       [  1. , 164.5,  20.9,  47.4],\n",
       "       [  1. ,  19.6,  20.1,  17. ],\n",
       "       [  1. , 168.4,   7.1,  12.8],\n",
       "       [  1. , 222.4,   3.4,  13.1],\n",
       "       [  1. , 276.9,  48.9,  41.8],\n",
       "       [  1. , 248.4,  30.2,  20.3],\n",
       "       [  1. , 170.2,   7.8,  35.2],\n",
       "       [  1. , 276.7,   2.3,  23.7],\n",
       "       [  1. , 165.6,  10. ,  17.6],\n",
       "       [  1. , 156.6,   2.6,   8.3],\n",
       "       [  1. , 218.5,   5.4,  27.4],\n",
       "       [  1. ,  56.2,   5.7,  29.7],\n",
       "       [  1. , 287.6,  43. ,  71.8],\n",
       "       [  1. , 253.8,  21.3,  30. ],\n",
       "       [  1. , 205. ,  45.1,  19.6],\n",
       "       [  1. , 139.5,   2.1,  26.6],\n",
       "       [  1. , 191.1,  28.7,  18.2],\n",
       "       [  1. , 286. ,  13.9,   3.7],\n",
       "       [  1. ,  18.7,  12.1,  23.4],\n",
       "       [  1. ,  39.5,  41.1,   5.8],\n",
       "       [  1. ,  75.5,  10.8,   6. ],\n",
       "       [  1. ,  17.2,   4.1,  31.6],\n",
       "       [  1. , 166.8,  42. ,   3.6],\n",
       "       [  1. , 149.7,  35.6,   6. ],\n",
       "       [  1. ,  38.2,   3.7,  13.8],\n",
       "       [  1. ,  94.2,   4.9,   8.1],\n",
       "       [  1. , 177. ,   9.3,   6.4],\n",
       "       [  1. , 283.6,  42. ,  66.2],\n",
       "       [  1. , 232.1,   8.6,   8.7]])"
      ]
     },
     "execution_count": 134,
     "metadata": {},
     "output_type": "execute_result"
    }
   ],
   "source": [
    "import numpy as np\n",
    "Y = adv[\"sales\"]\n",
    "X = np.column_stack([np.ones(Y.shape[0]), adv[\"TV\"], adv[\"radio\"], adv[\"newspaper\"]])\n",
    "X"
   ]
  },
  {
   "cell_type": "markdown",
   "metadata": {},
   "source": [
    "ß_hat = (X^T X)^-1 X^T Y\n",
    "\n",
    "n Sum i = 1 [yi - (b0 + b1x1i + ... + bkxki)]^2\n"
   ]
  },
  {
   "cell_type": "code",
   "execution_count": 135,
   "metadata": {},
   "outputs": [
    {
     "data": {
      "text/plain": [
       "(4860.323487097813, 4860.323487097845)"
      ]
     },
     "execution_count": 135,
     "metadata": {},
     "output_type": "execute_result"
    }
   ],
   "source": [
    "b = np.linalg.pinv(X.T @ X) @ X.T @ Y\n",
    "k = len(b)-1\n",
    "n = Y.shape[0]\n",
    "SSE = np.sum(np.square(Y - (X @ b)))\n",
    "var = SSE/(n - k -1)\n",
    "S = np.sqrt(var)\n",
    "Syy = (n*np.sum(np.square(Y)) - np.square(np.sum(Y)))/n\n",
    "SSR = Syy - SSE\n",
    "# SSE = Syy - SSR\n",
    "SSR2 = (n*np.sum(b*(X.T @ Y)) - (np.square(np.sum(Y))))/n\n",
    "SSR, SSR2"
   ]
  },
  {
   "cell_type": "code",
   "execution_count": 136,
   "metadata": {},
   "outputs": [
    {
     "data": {
      "text/plain": [
       "<matplotlib.collections.PathCollection at 0x1fdb40961d0>"
      ]
     },
     "execution_count": 136,
     "metadata": {},
     "output_type": "execute_result"
    },
    {
     "data": {
      "image/png": "[encoded data removed]",
      "text/plain": [
       "<Figure size 640x480 with 1 Axes>"
      ]
     },
     "metadata": {},
     "output_type": "display_data"
    }
   ],
   "source": [
    "import matplotlib.pyplot as plt\n",
    "\n",
    "plt.scatter(Y, X @ b)"
   ]
  },
  {
   "cell_type": "code",
   "execution_count": 137,
   "metadata": {},
   "outputs": [
    {
     "data": {
      "text/plain": [
       "0.8972106381789521"
      ]
     },
     "execution_count": 137,
     "metadata": {},
     "output_type": "execute_result"
    }
   ],
   "source": [
    "Rsq = SSR/Syy\n",
    "\n",
    "Rsq\n",
    "# Choose 90 % as confidence level.\n"
   ]
  },
  {
   "cell_type": "code",
   "execution_count": 138,
   "metadata": {},
   "outputs": [
    {
     "data": {
      "text/plain": [
       "6.373276981801425e-117"
      ]
     },
     "execution_count": 138,
     "metadata": {},
     "output_type": "execute_result"
    }
   ],
   "source": [
    "import scipy.stats as stats\n",
    "# H0: all ß = 0\n",
    "sig_statistic = (SSR/k)/S\n",
    "p_significance = stats.f.sf(sig_statistic, k, n - k - 1)\n",
    "p_significance\n",
    "# We reject the null-hypothesis, regression IS significant"
   ]
  },
  {
   "cell_type": "markdown",
   "metadata": {},
   "source": [
    "Variance/Co-variance matrix:\n",
    "c = (X^T X)^-1 \\ sigma^2"
   ]
  },
  {
   "cell_type": "code",
   "execution_count": 139,
   "metadata": {},
   "outputs": [
    {
     "data": {
      "text/plain": [
       "0.9166073083091348"
      ]
     },
     "execution_count": 139,
     "metadata": {},
     "output_type": "execute_result"
    }
   ],
   "source": [
    "c = np.linalg.pinv(X.T@X)*var\n",
    "\n",
    "# H0: b3 is irrelevant, b3 = 0\n",
    "b3_statistic = b[3] / (S*np.sqrt(c[3, 3]))\n",
    "p_b3 = 2*min(stats.t.cdf(b3_statistic, n-k-1), stats.t.sf(b3_statistic, n-k-1))\n",
    "p_b3"
   ]
  },
  {
   "cell_type": "code",
   "execution_count": null,
   "metadata": {},
   "outputs": [],
   "source": []
  }
 ],
 "metadata": {
  "kernelspec": {
   "display_name": ".venv",
   "language": "python",
   "name": "python3"
  },
  "language_info": {
   "codemirror_mode": {
    "name": "ipython",
    "version": 3
   },
   "file_extension": ".py",
   "mimetype": "text/x-python",
   "name": "python",
   "nbconvert_exporter": "python",
   "pygments_lexer": "ipython3",
   "version": "3.11.0"
  }
 },
 "nbformat": 4,
 "nbformat_minor": 2
}
