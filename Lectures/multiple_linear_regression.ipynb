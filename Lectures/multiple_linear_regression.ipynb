{
 "cells": [
  {
   "cell_type": "markdown",
   "metadata": {},
   "source": [
    "Multipel linjär regression\n",
    "\\begin{equation}\n",
    "    \\mu_{Y|\\alpha_1,\\alpha_2,\\alpha_3} = \\beta_0 + \\beta_1 x_1 + \\beta_2 x_2 + \\beta_3 x_1x_2\n",
    "\\end{equation}\n",
    "\n",
    "\\begin{equation*}\n",
    "    \\mathbf{Y} = X\\boldsymbol\\beta + \\mathbf{E}\n",
    "\\end{equation*}\n",
    "där $X$ är modellspecifikations matrisen. $\\mathbf{E}$ är vektorn med stokastiska fel med avseende på väntevärdet och $\\mathbf{Y}$ är en respons vektor för $Y$ över hela stickprovet."
   ]
  },
  {
   "cell_type": "code",
   "execution_count": 35,
   "metadata": {},
   "outputs": [
    {
     "data": {
      "text/html": [
       "<div>\n",
       "<style scoped>\n",
       "    .dataframe tbody tr th:only-of-type {\n",
       "        vertical-align: middle;\n",
       "    }\n",
       "\n",
       "    .dataframe tbody tr th {\n",
       "        vertical-align: top;\n",
       "    }\n",
       "\n",
       "    .dataframe thead th {\n",
       "        text-align: right;\n",
       "    }\n",
       "</style>\n",
       "<table border=\"1\" class=\"dataframe\">\n",
       "  <thead>\n",
       "    <tr style=\"text-align: right;\">\n",
       "      <th></th>\n",
       "      <th>TV</th>\n",
       "      <th>radio</th>\n",
       "      <th>newspaper</th>\n",
       "      <th>sales</th>\n",
       "    </tr>\n",
       "  </thead>\n",
       "  <tbody>\n",
       "    <tr>\n",
       "      <th>1</th>\n",
       "      <td>230.1</td>\n",
       "      <td>37.8</td>\n",
       "      <td>69.2</td>\n",
       "      <td>22.1</td>\n",
       "    </tr>\n",
       "    <tr>\n",
       "      <th>2</th>\n",
       "      <td>44.5</td>\n",
       "      <td>39.3</td>\n",
       "      <td>45.1</td>\n",
       "      <td>10.4</td>\n",
       "    </tr>\n",
       "    <tr>\n",
       "      <th>3</th>\n",
       "      <td>17.2</td>\n",
       "      <td>45.9</td>\n",
       "      <td>69.3</td>\n",
       "      <td>9.3</td>\n",
       "    </tr>\n",
       "    <tr>\n",
       "      <th>4</th>\n",
       "      <td>151.5</td>\n",
       "      <td>41.3</td>\n",
       "      <td>58.5</td>\n",
       "      <td>18.5</td>\n",
       "    </tr>\n",
       "    <tr>\n",
       "      <th>5</th>\n",
       "      <td>180.8</td>\n",
       "      <td>10.8</td>\n",
       "      <td>58.4</td>\n",
       "      <td>12.9</td>\n",
       "    </tr>\n",
       "  </tbody>\n",
       "</table>\n",
       "</div>"
      ],
      "text/plain": [
       "      TV  radio  newspaper  sales\n",
       "1  230.1   37.8       69.2   22.1\n",
       "2   44.5   39.3       45.1   10.4\n",
       "3   17.2   45.9       69.3    9.3\n",
       "4  151.5   41.3       58.5   18.5\n",
       "5  180.8   10.8       58.4   12.9"
      ]
     },
     "execution_count": 35,
     "metadata": {},
     "output_type": "execute_result"
    }
   ],
   "source": [
    "import pandas as pd\n",
    "\n",
    "data_path = \"/home/raphael/Documents/iths/data/\"\n",
    "\n",
    "adv = pd.read_csv(data_path+\"Advertising.csv\", index_col=0)\n",
    "adv.head()"
   ]
  },
  {
   "cell_type": "code",
   "execution_count": 36,
   "metadata": {},
   "outputs": [],
   "source": [
    "import numpy as np\n",
    "test_df = pd.DataFrame(adv[:10])\n",
    "X_test = np.column_stack([np.ones(10),test_df['TV'], test_df['radio'], test_df['TV']*test_df['radio']])\n",
    "Y_test = test_df['sales']\n",
    "train_df = pd.DataFrame(adv[10:160])\n",
    "X_train = np.column_stack([np.ones(150),train_df['TV'], train_df['radio'], train_df['TV']*train_df['radio']])\n",
    "Y_train = train_df['sales']\n",
    "val_df = pd.DataFrame(adv[160:])\n",
    "X_val = np.column_stack([np.ones(40),val_df['TV'], val_df['radio'], val_df['TV']*val_df['radio']])\n",
    "Y_val= val_df['sales']"
   ]
  },
  {
   "cell_type": "markdown",
   "metadata": {},
   "source": [
    "\\begin{equation*}\n",
    "\\hat{\\mathbf{\\beta}} = (X^TX)^{-1}X^TY\n",
    "\\end{equation*}\n",
    "SSE\n",
    "\\begin{equation}\n",
    "\\sum_{i=1}^n[y_i - (b_0 + b_1 x_{1i} + ... + b_k x_{ki})]²\n",
    "\\end{equation}"
   ]
  },
  {
   "cell_type": "code",
   "execution_count": 37,
   "metadata": {},
   "outputs": [],
   "source": [
    "b = np.linalg.pinv(X_train.T @ X_train) @ X_train.T @ Y_train\n",
    "k = len(b)-1\n",
    "n = Y_train.shape[0]\n",
    "SSE = np.sum(np.square(Y_val - (X_val @ b)))\n",
    "var = SSE/(n-k-1)\n",
    "S = np.sqrt(var)\n",
    "Syy = (n*np.sum(np.square(Y_val)) - np.square(np.sum(Y_val)))/n\n",
    "SSR = Syy - SSE\n",
    "#SSE = Syy - SSR\n",
    "#SSR_2 = (n*np.sum(b*(X.T @ Y)) - (np.square(np.sum(Y))))/n"
   ]
  },
  {
   "cell_type": "code",
   "execution_count": 38,
   "metadata": {},
   "outputs": [
    {
     "data": {
      "text/plain": [
       "<matplotlib.collections.PathCollection at 0x7fc44dd08590>"
      ]
     },
     "execution_count": 38,
     "metadata": {},
     "output_type": "execute_result"
    },
    {
     "data": {
      "image/png": "[encoded data removed]",
      "text/plain": [
       "<Figure size 640x480 with 1 Axes>"
      ]
     },
     "metadata": {},
     "output_type": "display_data"
    }
   ],
   "source": [
    "import matplotlib.pyplot as plt\n",
    "\n",
    "plt.scatter(Y_val, X_val @ b)"
   ]
  },
  {
   "cell_type": "code",
   "execution_count": 39,
   "metadata": {},
   "outputs": [
    {
     "data": {
      "text/plain": [
       "array([6.88157647e+00, 1.86678349e-02, 2.42869419e-02, 1.10431159e-03])"
      ]
     },
     "execution_count": 39,
     "metadata": {},
     "output_type": "execute_result"
    }
   ],
   "source": [
    "b"
   ]
  },
  {
   "cell_type": "code",
   "execution_count": 40,
   "metadata": {},
   "outputs": [
    {
     "data": {
      "text/plain": [
       "0.9977033993820288"
      ]
     },
     "execution_count": 40,
     "metadata": {},
     "output_type": "execute_result"
    }
   ],
   "source": [
    "Rsq = SSR/Syy\n",
    "Rsq\n",
    "# Choose 90% as confidence level"
   ]
  },
  {
   "cell_type": "code",
   "execution_count": 41,
   "metadata": {},
   "outputs": [
    {
     "data": {
      "text/plain": [
       "7.291164286317912e-157"
      ]
     },
     "execution_count": 41,
     "metadata": {},
     "output_type": "execute_result"
    }
   ],
   "source": [
    "import scipy.stats as stats\n",
    "# H0: all β = 0\n",
    "sig_statistic = (SSR/k)/S\n",
    "p_significance = stats.f.sf(sig_statistic, k, n-k-1)\n",
    "p_significance\n",
    "# We reject the null-hypothesis, regression IS significant"
   ]
  },
  {
   "cell_type": "markdown",
   "metadata": {},
   "source": [
    "Variance/Co-variance matrix:\n",
    "\\begin{equation*}\n",
    "c = (X^TX)^{-1}\\sigma^2\n",
    "\\end{equation*}"
   ]
  },
  {
   "cell_type": "code",
   "execution_count": 42,
   "metadata": {},
   "outputs": [
    {
     "data": {
      "text/plain": [
       "1.4038828178352977e-162"
      ]
     },
     "execution_count": 42,
     "metadata": {},
     "output_type": "execute_result"
    }
   ],
   "source": [
    "c = np.linalg.pinv(X_train.T @ X_train)*var\n",
    "\n",
    "# H0: b3 is irrelevant, β3 = 0\n",
    "b3_statistic = b[3] / (S*np.sqrt(c[3, 3]))\n",
    "p_b3 = 2*min(stats.t.cdf(b3_statistic, n-k-1), stats.t.sf(b3_statistic, n-k-1))\n",
    "p_b3"
   ]
  },
  {
   "cell_type": "code",
   "execution_count": 45,
   "metadata": {},
   "outputs": [
    {
     "data": {
      "text/plain": [
       "0.32241658960079567"
      ]
     },
     "execution_count": 45,
     "metadata": {},
     "output_type": "execute_result"
    }
   ],
   "source": [
    "RSE = np.sqrt((1/(n-2))*SSE)\n",
    "RSE"
   ]
  },
  {
   "cell_type": "code",
   "execution_count": 46,
   "metadata": {},
   "outputs": [
    {
     "data": {
      "text/plain": [
       "(0.32241658960079567, 0.2724138457509379)"
      ]
     },
     "execution_count": 46,
     "metadata": {},
     "output_type": "execute_result"
    }
   ],
   "source": [
    "SSE_test= np.sum(np.square(Y_test - (X_test @ b)))\n",
    "RSE_test = np.sqrt((1/(n-2))*SSE_test)\n",
    "RSE, RSE_test"
   ]
  }
 ],
 "metadata": {
  "kernelspec": {
   "display_name": "Python 3",
   "language": "python",
   "name": "python3"
  },
  "language_info": {
   "codemirror_mode": {
    "name": "ipython",
    "version": 3
   },
   "file_extension": ".py",
   "mimetype": "text/x-python",
   "name": "python",
   "nbconvert_exporter": "python",
   "pygments_lexer": "ipython3",
   "version": "3.12.4"
  }
 },
 "nbformat": 4,
 "nbformat_minor": 2
}
