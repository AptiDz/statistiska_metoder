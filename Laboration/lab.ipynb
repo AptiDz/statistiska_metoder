{
 "cells": [
  {
   "cell_type": "markdown",
   "metadata": {},
   "source": [
    "# Importerar Data"
   ]
  },
  {
   "cell_type": "code",
   "execution_count": 1,
   "metadata": {},
   "outputs": [],
   "source": [
    "import numpy as np\n",
    "from lab import LinearRegression\n",
    "\n",
    "csv_data = []\n",
    "with open(\"Small-diameter-flow.csv\",\"r\") as lines:\n",
    "    header_line = lines.readline() # variabel for header line som representerar rubriker den ska skippas. \n",
    "    \n",
    "    for line in lines:\n",
    "        list_row = line.split(\",\") # datan använder komma för att splittra varje kolumn så vi dela det på varje kolumn en lista  där alla elementer representerar dess columner\n",
    "        values = [float(x) for x in list_row[1:]] # plockar ut värde från lista men eftersom det är loop så varje lista kommer representera rader. första elementen i listan represesenterar index i csv filen så den hoppar man över och man tolkar andra värde som float.\n",
    "        csv_data.append(values) # lägger till listan i csv så varje rad representeras som listan av listan.\n",
    "    \n",
    "    data = np.array(csv_data) # representerar csv_data listan som np array form. Varje rad är lista av Y och X(n) värderna som sedan byggs vidare på nästa rad alltså hela är lista av listor."
   ]
  },
  {
   "cell_type": "markdown",
   "metadata": {},
   "source": [
    "# Skapa data relaterad variabler som är beroende och oberoende"
   ]
  },
  {
   "cell_type": "code",
   "execution_count": 2,
   "metadata": {},
   "outputs": [],
   "source": [
    "# Data variabel har vi arrays där varje värde representerar kolumner: [Flow, Kinematic, Geometric, Inertial, Observer].\n",
    "\n",
    "Y = data[:, 0]      # Väljer kolumn 0 alltså Flow som Y\n",
    "X = data[:, 1:]     # Väljer kolumn 1-4 resterande som X"
   ]
  },
  {
   "cell_type": "markdown",
   "metadata": {},
   "source": [
    "# Skapar variabel genom att köra klassen"
   ]
  },
  {
   "cell_type": "code",
   "execution_count": 3,
   "metadata": {},
   "outputs": [],
   "source": [
    "# Skapar model med valda data\n",
    "model = LinearRegression(X, Y)"
   ]
  },
  {
   "cell_type": "markdown",
   "metadata": {},
   "source": [
    "# G metoder test"
   ]
  },
  {
   "cell_type": "code",
   "execution_count": 4,
   "metadata": {},
   "outputs": [
    {
     "data": {
      "text/plain": [
       "0.00627229253835668"
      ]
     },
     "execution_count": 4,
     "metadata": {},
     "output_type": "execute_result"
    }
   ],
   "source": [
    "# Beräknar modelens varians\n",
    "model.calculate_variance()\n"
   ]
  },
  {
   "cell_type": "code",
   "execution_count": 5,
   "metadata": {},
   "outputs": [
    {
     "data": {
      "text/plain": [
       "0.07919780639864137"
      ]
     },
     "execution_count": 5,
     "metadata": {},
     "output_type": "execute_result"
    }
   ],
   "source": [
    "# Beräknar modelens standardavvikelse\n",
    "model.calculate_standard_deviation()"
   ]
  },
  {
   "cell_type": "code",
   "execution_count": 6,
   "metadata": {},
   "outputs": [
    {
     "data": {
      "text/plain": [
       "(16897.077024462742, 2.1976043176933036e-244)"
      ]
     },
     "execution_count": 6,
     "metadata": {},
     "output_type": "execute_result"
    }
   ],
   "source": [
    "# Beräknar F-test för att se om hela modelen är signifikant dess f-stat och p-värde\n",
    "model.calculate_f_test_significance()"
   ]
  },
  {
   "cell_type": "code",
   "execution_count": 7,
   "metadata": {},
   "outputs": [
    {
     "data": {
      "text/plain": [
       "0.9971526073276518"
      ]
     },
     "execution_count": 7,
     "metadata": {},
     "output_type": "execute_result"
    }
   ],
   "source": [
    "# Beräknar R^2 värdet\n",
    "model.calculate_r2()"
   ]
  },
  {
   "cell_type": "markdown",
   "metadata": {},
   "source": [
    "# VG metoder test"
   ]
  },
  {
   "cell_type": "code",
   "execution_count": 8,
   "metadata": {},
   "outputs": [
    {
     "data": {
      "text/plain": [
       "[(-6.126662954912394, 4.942521821101141e-09),\n",
       " (17.910818368085256, 6.674367074765245e-43),\n",
       " (108.6684009491941, 4.688266515773313e-175),\n",
       " (-19.174089678646695, 1.4351795240649402e-46),\n",
       " (1.4579513940191677, 0.14647924341702467)]"
      ]
     },
     "execution_count": 8,
     "metadata": {},
     "output_type": "execute_result"
    }
   ],
   "source": [
    "# Beräknar T-test för att kunna se signifikansen för varje koefficient\n",
    "model.calculate_coefficients_significance()"
   ]
  },
  {
   "cell_type": "code",
   "execution_count": 9,
   "metadata": {},
   "outputs": [
    {
     "data": {
      "text/plain": [
       "array([[1.        , 0.86313508, 0.96867075, 0.10322659],\n",
       "       [0.86313508, 1.        , 0.91833003, 0.17519913],\n",
       "       [0.96867075, 0.91833003, 1.        , 0.12198107],\n",
       "       [0.10322659, 0.17519913, 0.12198107, 1.        ]])"
      ]
     },
     "execution_count": 9,
     "metadata": {},
     "output_type": "execute_result"
    }
   ],
   "source": [
    "# Beräknar Pearson korrelationsmatrisen för att se insatsvariablerna\n",
    "model.calculate_pearson_correlation_matrix()"
   ]
  },
  {
   "cell_type": "code",
   "execution_count": 10,
   "metadata": {},
   "outputs": [
    {
     "data": {
      "text/plain": [
       "[(-3.4155513554603307, -1.751986817923307),\n",
       " (0.7742028321594377, 0.96581258769478),\n",
       " (3.5377534941548423, 3.668547877212934),\n",
       " (-0.8292322702388162, -0.674546893855887),\n",
       " (-0.005955615872550675, 0.039716624104377686)]"
      ]
     },
     "execution_count": 10,
     "metadata": {},
     "output_type": "execute_result"
    }
   ],
   "source": [
    "# Beräknar konfidensintervall för varje koefficient\n",
    "model.calculate_coefficients_confidence_intervals()"
   ]
  },
  {
   "cell_type": "markdown",
   "metadata": {},
   "source": [
    "# G uppgifter resultat"
   ]
  },
  {
   "cell_type": "code",
   "execution_count": 11,
   "metadata": {},
   "outputs": [
    {
     "name": "stdout",
     "output_type": "stream",
     "text": [
      "Modelens form\n",
      "Antal rader (n): 198\n",
      "Antal variabler (d): 4\n",
      "\n",
      "Regressionskoefficienter (b)\n",
      "beta_0: -2.5838\n",
      "beta_1: 0.8700\n",
      "beta_2: 3.6032\n",
      "beta_3: -0.7519\n",
      "beta_4: 0.0169\n",
      "\n",
      "Statistiska analyseringar\n",
      "Varians : 0.0063\n",
      "Standardavvikelse: 0.0792\n",
      "R^2-värde: 0.9972\n",
      "\n",
      "Signifikanser\n",
      "F = 16897.077024462742 p = 2.1976043176933036e-244\n"
     ]
    }
   ],
   "source": [
    "# Skriver ut resultatet\n",
    "print(\"Modelens form\")\n",
    "print(f\"Antal rader (n): {model.n}\")\n",
    "print(f\"Antal variabler (d): {model.d}\")\n",
    "\n",
    "print(\"\\nRegressionskoefficienter (b)\")\n",
    "print(f\"beta_0: {model.b[0]:.4f}\")\n",
    "print(f\"beta_1: {model.b[1]:.4f}\")\n",
    "print(f\"beta_2: {model.b[2]:.4f}\")\n",
    "print(f\"beta_3: {model.b[3]:.4f}\")\n",
    "print(f\"beta_4: {model.b[4]:.4f}\")\n",
    "\n",
    "print(\"\\nStatistiska analyseringar\")\n",
    "print(f\"Varians : {model.var:.4f}\")\n",
    "print(f\"Standardavvikelse: {model.std:.4f}\")\n",
    "print(f\"R^2-värde: {model.calculate_r2():.4f}\")\n",
    "\n",
    "# Hämtar ut och sedan skriver ut F-test statistiken och p-värdet\n",
    "F_stat, p_val = model.calculate_f_test_significance()\n",
    "print(\"\\nSignifikanser\")\n",
    "print(f\"F = {F_stat} p = {p_val}\")"
   ]
  },
  {
   "cell_type": "markdown",
   "metadata": {},
   "source": [
    "# VG Uppgifter Resultat"
   ]
  },
  {
   "cell_type": "code",
   "execution_count": 12,
   "metadata": {},
   "outputs": [
    {
     "name": "stdout",
     "output_type": "stream",
     "text": [
      "t-värde och p-värde för varje koefficient:\n",
      "beta_0: t = -6.1267 p = 4.942521821101141e-09\n",
      "beta_1: t = 17.9108 p = 6.674367074765245e-43\n",
      "beta_2: t = 108.6684 p = 4.688266515773313e-175\n",
      "beta_3: t = -19.1741 p = 1.4351795240649402e-46\n",
      "beta_4: t = 1.4580 p = 0.14647924341702467\n",
      "\n",
      "Konfidensintervall:\n",
      "beta_0: från -3.4156 till -1.7520\n",
      "beta_1: från 0.7742 till 0.9658\n",
      "beta_2: från 3.5378 till 3.6685\n",
      "beta_3: från -0.8292 till -0.6745\n",
      "beta_4: från -0.0060 till 0.0397\n",
      "\n",
      "Pearson Korrelationsmatris:\n",
      "[[1.         0.86313508 0.96867075 0.10322659]\n",
      " [0.86313508 1.         0.91833003 0.17519913]\n",
      " [0.96867075 0.91833003 1.         0.12198107]\n",
      " [0.10322659 0.17519913 0.12198107 1.        ]]\n"
     ]
    }
   ],
   "source": [
    "# Hämtar ut sedan skriver ut T-test resultat för varje koefficient inkluderad intercept och p-värdet\n",
    "print(\"t-värde och p-värde för varje koefficient:\")\n",
    "coeff_sign = model.calculate_coefficients_significance()\n",
    "for i, (t_stat, p_val) in enumerate(coeff_sign):\n",
    "    print(f\"beta_{i}: t = {t_stat:.4f} p = {p_val}\")\n",
    "    \n",
    "# Hämtar ut sedan skriver ut konfidensintervall för varje koefficient\n",
    "print(\"\\nKonfidensintervall:\")\n",
    "ci_list = model.calculate_coefficients_confidence_intervals()\n",
    "for i, (low, high) in enumerate(ci_list):\n",
    "    print(f\"beta_{i}: från {low:.4f} till {high:.4f}\")\n",
    "\n",
    "# Hämtar ut och skriver ut Pearson korrelationsmatrisen\n",
    "print(\"\\nPearson Korrelationsmatris:\")\n",
    "corr_matrix = model.calculate_pearson_correlation_matrix()\n",
    "print(corr_matrix)"
   ]
  },
  {
   "cell_type": "markdown",
   "metadata": {},
   "source": [
    "# VG Diskussion Lösning"
   ]
  },
  {
   "cell_type": "code",
   "execution_count": 13,
   "metadata": {},
   "outputs": [
    {
     "name": "stdout",
     "output_type": "stream",
     "text": [
      "\n",
      "Observer koefficient: t = 1.4580 p = 0.14647924341702467\n",
      "Ingen statistiskt signifikant skillnad gällande Observer.\n"
     ]
    }
   ],
   "source": [
    "# Kolla \"Observer\" (sista kolumnen) vilket är sista koefficienten\n",
    "obs_t_stat, obs_p_val = coeff_sign[-1]\n",
    "print(f\"\\nObserver koefficient: t = {obs_t_stat:.4f} p = {obs_p_val}\")\n",
    "\n",
    "# Om p-värdet är mindre eller lika med 0.05 då innebär det att observer bias är statistiskt signifikant\n",
    "if obs_p_val <= 0.05:\n",
    "    print(\"Observer BIAS är statistiskt signifikant\")\n",
    "else:\n",
    "    print(\"Ingen statistiskt signifikant skillnad gällande Observer.\")"
   ]
  }
 ],
 "metadata": {
  "kernelspec": {
   "display_name": ".venv",
   "language": "python",
   "name": "python3"
  },
  "language_info": {
   "codemirror_mode": {
    "name": "ipython",
    "version": 3
   },
   "file_extension": ".py",
   "mimetype": "text/x-python",
   "name": "python",
   "nbconvert_exporter": "python",
   "pygments_lexer": "ipython3",
   "version": "3.11.0"
  }
 },
 "nbformat": 4,
 "nbformat_minor": 2
}
