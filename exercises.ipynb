{
 "cells": [
  {
   "cell_type": "markdown",
   "metadata": {},
   "source": [
    "2.4 Exercises\n",
    "Conceptual\n",
    "\n",
    "1. For each of parts (a) through (d), indicate whether we would generally\n",
    "expect the performance of a flexible statistical learning method to be\n",
    "better or worse than an inflexible method. Justify your answer.\n",
    "\n",
    "(a) The sample size n is extremely large, and the number of predic-\n",
    "tors p is small.\n",
    "\n",
    "(b) The number of predictors p is extremely large, and the number\n",
    "of observations n is small.\n",
    "\n",
    "(c) The relationship between the predictors and response is highly\n",
    "non-linear.\n",
    "\n",
    "(d) The variance of the error terms, i.e. σ2 = Var(\"), is extremely\n",
    "high."
   ]
  }
 ],
 "metadata": {
  "kernelspec": {
   "display_name": ".venv",
   "language": "python",
   "name": "python3"
  },
  "language_info": {
   "codemirror_mode": {
    "name": "ipython",
    "version": 3
   },
   "file_extension": ".py",
   "mimetype": "text/x-python",
   "name": "python",
   "nbconvert_exporter": "python",
   "pygments_lexer": "ipython3",
   "version": "3.11.0"
  }
 },
 "nbformat": 4,
 "nbformat_minor": 2
}
